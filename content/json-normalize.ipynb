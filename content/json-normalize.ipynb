{
 "metadata": {
  "language_info": {
   "codemirror_mode": {
    "name": "ipython",
    "version": 3
   },
   "file_extension": ".py",
   "mimetype": "text/x-python",
   "name": "python",
   "nbconvert_exporter": "python",
   "pygments_lexer": "ipython3",
   "version": "3.8.5-final"
  },
  "orig_nbformat": 2,
  "kernelspec": {
   "name": "python3",
   "display_name": "Python 3",
   "language": "python"
  }
 },
 "nbformat": 4,
 "nbformat_minor": 2,
 "cells": [
  {
   "source": [
    "- Title: Normalize JSON with Pandas\n",
    "- Date: 2021-01-12 21:00:00 -0700\n",
    "- Category: Tutorial\n",
    "- Summary: An explanation about using the pandas json_normalize function to handle nested JSON data."
   ],
   "cell_type": "markdown",
   "metadata": {}
  },
  {
   "source": [
    "When processing nested `JSON` data into a flat structure for importing into a relational database, it can be tricky to structure the data into the right shape. [Pandas](https://pandas.pydata.org/) has a great tool for doing this called `pandas.json_normalize()` but the [documentation](https://pandas.pydata.org/docs/reference/api/pandas.json_normalize.html?highlight=json_normalize) doesn't make it obvious how to leverage its capabilities for handling nested data structures. \n",
    "\n",
    "I thought I could provide a brief example using some randomly generated survey response data (using the [Faker](https://faker.readthedocs.io/en/master/) library) to illustrate it's advantages."
   ],
   "cell_type": "markdown",
   "metadata": {}
  },
  {
   "source": [
    "## Setup\n",
    "\n",
    "To start, I'm going to be using pandas and Faker so we'll import those. I'm also going to need to easily display the parsed json as well as the returned dataframes, so I'm importing the json module from the standard lib as well as some IPython notebook helpers for displaying dataframes as HTML tables. "
   ],
   "cell_type": "markdown",
   "metadata": {}
  },
  {
   "cell_type": "code",
   "execution_count": 63,
   "metadata": {},
   "outputs": [],
   "source": [
    "import json\n",
    "from IPython.display import display, HTML\n",
    "from faker import Faker\n",
    "from faker.providers import BaseProvider, date_time, internet\n",
    "import pandas as pd"
   ]
  },
  {
   "source": [
    "To make it easier to call the IPython display helper, we'll include this simple function as **syntactic sugar**. "
   ],
   "cell_type": "markdown",
   "metadata": {}
  },
  {
   "cell_type": "code",
   "execution_count": 64,
   "metadata": {},
   "outputs": [],
   "source": [
    "def print_df(df):\n",
    "    display(HTML(df.to_html()))"
   ]
  },
  {
   "source": [
    "## Fake Data\n",
    "Faker doesn't have a built in provider for survey questions, so let's go ahead and add a simple one that creates non-sensical questions with a simple hack to the sentence provider."
   ],
   "cell_type": "markdown",
   "metadata": {}
  },
  {
   "cell_type": "code",
   "execution_count": 65,
   "metadata": {},
   "outputs": [],
   "source": [
    "class MyProvider(BaseProvider):\n",
    "    def question(self):\n",
    "        stems = ('Does', 'How does', 'Which', 'Why does')\n",
    "        stem = Faker().random_choices(elements=stems, length=1)[0]\n",
    "        sentence = Faker().sentence()\n",
    "        sentence = sentence[0].lower() + sentence[1:]\n",
    "        question = sentence.replace(\".\", \"?\")\n",
    "        question = f\"{stem} {question}\"\n",
    "        return question"
   ]
  },
  {
   "source": [
    "Using this new question provider, we'll construct a few records of fake survey response data with some respondent level data like a respondent_id, survey_date, and respondent email. Within that we'll nest a list of responses which will in turn have it's own dictionary of data at the question level: id, question text, and choices. The choices list will be singular here, but assume it has that structure because the API this comes from has to also account for multi-select options and we'll need to parse it as a list regardless. *Depending on our analysis needs, this might also be a place where we'd want to keep these in a comma separated string, but for our purposes here we'll ignore that use case.*"
   ],
   "cell_type": "markdown",
   "metadata": {}
  },
  {
   "cell_type": "code",
   "execution_count": 66,
   "metadata": {
    "tags": []
   },
   "outputs": [],
   "source": [
    "fake = Faker()\n",
    "fake.add_provider(MyProvider)\n",
    "choices = ('Strongly Agree', 'Agree', 'Neutral', 'Disagree', 'Strongly Disagree')\n",
    "\n",
    "\n",
    "sample_data = [\n",
    "    {\n",
    "        \"respondent_id\": fake.bothify(text=\"#?##??###?#\"),\n",
    "        \"survey_date\": fake.date(),\n",
    "        \"email\": fake.email(domain=\"example.com\"),\n",
    "        \"responses\": [\n",
    "            {\n",
    "                \"question_id\": fake.bothify(text=\"#??#??###?#\"),\n",
    "                \"question_text\": fake.question(),\n",
    "                \"choices\": [\n",
    "                    {\n",
    "                        \"choice\": fake.random_choices(elements=choices, length=1)[0],\n",
    "                        \"number\": fake.random_digit(),\n",
    "                    }\n",
    "                ]\n",
    "            } for _ in range(5)\n",
    "        ]\n",
    "    } for _ in range(2) \n",
    "]"
   ]
  },
  {
   "source": [
    "Let's print out a single record to see the resulting data structure that has been generated randomly."
   ],
   "cell_type": "markdown",
   "metadata": {}
  },
  {
   "cell_type": "code",
   "execution_count": 67,
   "metadata": {},
   "outputs": [
    {
     "output_type": "stream",
     "name": "stdout",
     "text": [
      "{\n  \"respondent_id\": \"9U69hZ538l1\",\n  \"survey_date\": \"1994-03-20\",\n  \"email\": \"lindsey24@example.com\",\n  \"responses\": [\n    {\n      \"question_id\": \"7YB4ZO864I7\",\n      \"question_text\": \"How does speak beat ever tree?\",\n      \"choices\": [\n        {\n          \"choice\": \"Strongly Agree\",\n          \"number\": 4\n        }\n      ]\n    },\n    {\n      \"question_id\": \"8uD0WY155Q9\",\n      \"question_text\": \"How does write popular Mr know develop?\",\n      \"choices\": [\n        {\n          \"choice\": \"Agree\",\n          \"number\": 9\n        }\n      ]\n    },\n    {\n      \"question_id\": \"8bN0OP829A8\",\n      \"question_text\": \"Why does democratic represent far my pressure series third?\",\n      \"choices\": [\n        {\n          \"choice\": \"Strongly Agree\",\n          \"number\": 9\n        }\n      ]\n    },\n    {\n      \"question_id\": \"2Rt9mk140E8\",\n      \"question_text\": \"How does understand network old?\",\n      \"choices\": [\n        {\n          \"choice\": \"Agree\",\n          \"number\": 2\n        }\n      ]\n    },\n    {\n      \"question_id\": \"8tf2SU934m8\",\n      \"question_text\": \"Why does western next put?\",\n      \"choices\": [\n        {\n          \"choice\": \"Neutral\",\n          \"number\": 8\n        }\n      ]\n    }\n  ]\n}\n"
     ]
    }
   ],
   "source": [
    "print(json.dumps(sample_data[0], indent=2))"
   ]
  },
  {
   "source": [
    "## Reading with Pandas\n",
    "\n",
    "As you can see below, simply reading this directly into a dataframe only parses the top level respondent data, but then keeps the responses data as a json array. Which isn't great for simple analysis. Could you load that \"as is\" into a jsonb field in PostgreSQL? Sure. If you like parsing json with SQL. Yuck!\n"
   ],
   "cell_type": "markdown",
   "metadata": {}
  },
  {
   "cell_type": "code",
   "execution_count": 68,
   "metadata": {},
   "outputs": [
    {
     "output_type": "display_data",
     "data": {
      "text/plain": "<IPython.core.display.HTML object>",
      "text/html": "<table border=\"1\" class=\"dataframe\">\n  <thead>\n    <tr style=\"text-align: right;\">\n      <th></th>\n      <th>respondent_id</th>\n      <th>survey_date</th>\n      <th>email</th>\n      <th>responses</th>\n    </tr>\n  </thead>\n  <tbody>\n    <tr>\n      <th>0</th>\n      <td>9U69hZ538l1</td>\n      <td>1994-03-20</td>\n      <td>lindsey24@example.com</td>\n      <td>[{'question_id': '7YB4ZO864I7', 'question_text': 'How does speak beat ever tree?', 'choices': [{'choice': 'Strongly Agree', 'number': 4}]}, {'question_id': '8uD0WY155Q9', 'question_text': 'How does write popular Mr know develop?', 'choices': [{'choice': 'Agree', 'number': 9}]}, {'question_id': '8bN0OP829A8', 'question_text': 'Why does democratic represent far my pressure series third?', 'choices': [{'choice': 'Strongly Agree', 'number': 9}]}, {'question_id': '2Rt9mk140E8', 'question_text': 'How does understand network old?', 'choices': [{'choice': 'Agree', 'number': 2}]}, {'question_id': '8tf2SU934m8', 'question_text': 'Why does western next put?', 'choices': [{'choice': 'Neutral', 'number': 8}]}]</td>\n    </tr>\n    <tr>\n      <th>1</th>\n      <td>3A45gW246W1</td>\n      <td>1991-07-13</td>\n      <td>robert21@example.com</td>\n      <td>[{'question_id': '2CP2AW568v2', 'question_text': 'Why does whatever play office move alone class part wish?', 'choices': [{'choice': 'Neutral', 'number': 0}]}, {'question_id': '2YV7SR528f0', 'question_text': 'Why does which phone return much door?', 'choices': [{'choice': 'Disagree', 'number': 7}]}, {'question_id': '3PJ8eR903v4', 'question_text': 'Why does despite be class various great stay Republican person?', 'choices': [{'choice': 'Neutral', 'number': 4}]}, {'question_id': '2GV2kH553o3', 'question_text': 'Does become create store store?', 'choices': [{'choice': 'Disagree', 'number': 8}]}, {'question_id': '9aX3NJ910f8', 'question_text': 'Which team life although rate science I pattern?', 'choices': [{'choice': 'Strongly Disagree', 'number': 7}]}]</td>\n    </tr>\n  </tbody>\n</table>"
     },
     "metadata": {}
    }
   ],
   "source": [
    "df = pd.DataFrame(sample_data)\n",
    "print_df(df)"
   ]
  },
  {
   "source": [
    "## A messy custom parser\n",
    "\n",
    "We could attempt to reshape this by writing some custom functions to handle extracting the responses and merging that data with the top-level meta data about the respondent with some dictionary unpacking, but this gets messy and would fall apart quickly as the structure changed. While this approach works, it's not ideal. \n",
    "\n",
    "Sure this code could be further refactored to simplify the logic, but it's not worth it since the `pandas.json_normalize()` can do this for us easily."
   ],
   "cell_type": "markdown",
   "metadata": {}
  },
  {
   "cell_type": "code",
   "execution_count": 69,
   "metadata": {},
   "outputs": [
    {
     "output_type": "display_data",
     "data": {
      "text/plain": "<IPython.core.display.HTML object>",
      "text/html": "<table border=\"1\" class=\"dataframe\">\n  <thead>\n    <tr style=\"text-align: right;\">\n      <th></th>\n      <th>respondent_id</th>\n      <th>survey_date</th>\n      <th>email</th>\n      <th>question_id</th>\n      <th>question_text</th>\n      <th>choice</th>\n      <th>number</th>\n    </tr>\n  </thead>\n  <tbody>\n    <tr>\n      <th>0</th>\n      <td>9U69hZ538l1</td>\n      <td>1994-03-20</td>\n      <td>lindsey24@example.com</td>\n      <td>7YB4ZO864I7</td>\n      <td>How does speak beat ever tree?</td>\n      <td>Strongly Agree</td>\n      <td>4</td>\n    </tr>\n    <tr>\n      <th>1</th>\n      <td>9U69hZ538l1</td>\n      <td>1994-03-20</td>\n      <td>lindsey24@example.com</td>\n      <td>8uD0WY155Q9</td>\n      <td>How does write popular Mr know develop?</td>\n      <td>Agree</td>\n      <td>9</td>\n    </tr>\n    <tr>\n      <th>2</th>\n      <td>9U69hZ538l1</td>\n      <td>1994-03-20</td>\n      <td>lindsey24@example.com</td>\n      <td>8bN0OP829A8</td>\n      <td>Why does democratic represent far my pressure series third?</td>\n      <td>Strongly Agree</td>\n      <td>9</td>\n    </tr>\n    <tr>\n      <th>3</th>\n      <td>9U69hZ538l1</td>\n      <td>1994-03-20</td>\n      <td>lindsey24@example.com</td>\n      <td>2Rt9mk140E8</td>\n      <td>How does understand network old?</td>\n      <td>Agree</td>\n      <td>2</td>\n    </tr>\n    <tr>\n      <th>4</th>\n      <td>9U69hZ538l1</td>\n      <td>1994-03-20</td>\n      <td>lindsey24@example.com</td>\n      <td>8tf2SU934m8</td>\n      <td>Why does western next put?</td>\n      <td>Neutral</td>\n      <td>8</td>\n    </tr>\n    <tr>\n      <th>5</th>\n      <td>3A45gW246W1</td>\n      <td>1991-07-13</td>\n      <td>robert21@example.com</td>\n      <td>2CP2AW568v2</td>\n      <td>Why does whatever play office move alone class part wish?</td>\n      <td>Neutral</td>\n      <td>0</td>\n    </tr>\n    <tr>\n      <th>6</th>\n      <td>3A45gW246W1</td>\n      <td>1991-07-13</td>\n      <td>robert21@example.com</td>\n      <td>2YV7SR528f0</td>\n      <td>Why does which phone return much door?</td>\n      <td>Disagree</td>\n      <td>7</td>\n    </tr>\n    <tr>\n      <th>7</th>\n      <td>3A45gW246W1</td>\n      <td>1991-07-13</td>\n      <td>robert21@example.com</td>\n      <td>3PJ8eR903v4</td>\n      <td>Why does despite be class various great stay Republican person?</td>\n      <td>Neutral</td>\n      <td>4</td>\n    </tr>\n    <tr>\n      <th>8</th>\n      <td>3A45gW246W1</td>\n      <td>1991-07-13</td>\n      <td>robert21@example.com</td>\n      <td>2GV2kH553o3</td>\n      <td>Does become create store store?</td>\n      <td>Disagree</td>\n      <td>8</td>\n    </tr>\n    <tr>\n      <th>9</th>\n      <td>3A45gW246W1</td>\n      <td>1991-07-13</td>\n      <td>robert21@example.com</td>\n      <td>9aX3NJ910f8</td>\n      <td>Which team life although rate science I pattern?</td>\n      <td>Strongly Disagree</td>\n      <td>7</td>\n    </tr>\n  </tbody>\n</table>"
     },
     "metadata": {}
    }
   ],
   "source": [
    "def record_format(responses):\n",
    "    data = []\n",
    "    for response in responses:\n",
    "        record = {\n",
    "            \"question_id\": response.get(\"question_id\"),\n",
    "            \"question_text\": response.get(\"question_text\"),\n",
    "            \"choice\": response.get(\"choices\")[0].get(\"choice\"),\n",
    "            \"number\": response.get(\"choices\")[0].get(\"number\"),\n",
    "        }\n",
    "        data.append(record)\n",
    "    return data\n",
    "\n",
    "def parse_json(records):\n",
    "    data = []\n",
    "    for record in sample_data:\n",
    "        meta = {\n",
    "            \"respondent_id\": record.get(\"respondent_id\"),\n",
    "            \"survey_date\": record.get(\"survey_date\"),\n",
    "            \"email\": record.get(\"email\"),\n",
    "        }\n",
    "        responses = record.get(\"responses\")\n",
    "        formatted_responses = record_format(responses)\n",
    "        for response in formatted_responses:\n",
    "            combined = {**meta, **response}\n",
    "            data.append(combined)\n",
    "    return data\n",
    "\n",
    "clean_data = parse_json(sample_data)\n",
    "df = pd.DataFrame(clean_data)\n",
    "print_df(df)"
   ]
  },
  {
   "source": [
    "## JSON Normalize\n",
    "Thankfully there is the `json_normalize()` function, but it requires a little understanding to get it to satisfactorily parse flat. Simply passing it the sample data without any parameters results in a very familiar result that gets us no further than we started in the first attempt."
   ],
   "cell_type": "markdown",
   "metadata": {}
  },
  {
   "cell_type": "code",
   "execution_count": 70,
   "metadata": {},
   "outputs": [
    {
     "output_type": "display_data",
     "data": {
      "text/plain": "<IPython.core.display.HTML object>",
      "text/html": "<table border=\"1\" class=\"dataframe\">\n  <thead>\n    <tr style=\"text-align: right;\">\n      <th></th>\n      <th>respondent_id</th>\n      <th>survey_date</th>\n      <th>email</th>\n      <th>responses</th>\n    </tr>\n  </thead>\n  <tbody>\n    <tr>\n      <th>0</th>\n      <td>9U69hZ538l1</td>\n      <td>1994-03-20</td>\n      <td>lindsey24@example.com</td>\n      <td>[{'question_id': '7YB4ZO864I7', 'question_text': 'How does speak beat ever tree?', 'choices': [{'choice': 'Strongly Agree', 'number': 4}]}, {'question_id': '8uD0WY155Q9', 'question_text': 'How does write popular Mr know develop?', 'choices': [{'choice': 'Agree', 'number': 9}]}, {'question_id': '8bN0OP829A8', 'question_text': 'Why does democratic represent far my pressure series third?', 'choices': [{'choice': 'Strongly Agree', 'number': 9}]}, {'question_id': '2Rt9mk140E8', 'question_text': 'How does understand network old?', 'choices': [{'choice': 'Agree', 'number': 2}]}, {'question_id': '8tf2SU934m8', 'question_text': 'Why does western next put?', 'choices': [{'choice': 'Neutral', 'number': 8}]}]</td>\n    </tr>\n    <tr>\n      <th>1</th>\n      <td>3A45gW246W1</td>\n      <td>1991-07-13</td>\n      <td>robert21@example.com</td>\n      <td>[{'question_id': '2CP2AW568v2', 'question_text': 'Why does whatever play office move alone class part wish?', 'choices': [{'choice': 'Neutral', 'number': 0}]}, {'question_id': '2YV7SR528f0', 'question_text': 'Why does which phone return much door?', 'choices': [{'choice': 'Disagree', 'number': 7}]}, {'question_id': '3PJ8eR903v4', 'question_text': 'Why does despite be class various great stay Republican person?', 'choices': [{'choice': 'Neutral', 'number': 4}]}, {'question_id': '2GV2kH553o3', 'question_text': 'Does become create store store?', 'choices': [{'choice': 'Disagree', 'number': 8}]}, {'question_id': '9aX3NJ910f8', 'question_text': 'Which team life although rate science I pattern?', 'choices': [{'choice': 'Strongly Disagree', 'number': 7}]}]</td>\n    </tr>\n  </tbody>\n</table>"
     },
     "metadata": {}
    }
   ],
   "source": [
    "df = pd.json_normalize(sample_data)\n",
    "print_df(df)"
   ]
  },
  {
   "source": [
    "A few optional parameters can be used here to parse the first nested array called `responses`. We can direct the pandas json parser to a specific key as the source of records. The `record_path` parameter takes either a string or list of strings to construct that path. The name of this parameter is a hint about how to think of this when passed as a list as we'll see later. "
   ],
   "cell_type": "markdown",
   "metadata": {}
  },
  {
   "cell_type": "code",
   "execution_count": 71,
   "metadata": {},
   "outputs": [
    {
     "output_type": "display_data",
     "data": {
      "text/plain": "<IPython.core.display.HTML object>",
      "text/html": "<table border=\"1\" class=\"dataframe\">\n  <thead>\n    <tr style=\"text-align: right;\">\n      <th></th>\n      <th>question_id</th>\n      <th>question_text</th>\n      <th>choices</th>\n    </tr>\n  </thead>\n  <tbody>\n    <tr>\n      <th>0</th>\n      <td>7YB4ZO864I7</td>\n      <td>How does speak beat ever tree?</td>\n      <td>[{'choice': 'Strongly Agree', 'number': 4}]</td>\n    </tr>\n    <tr>\n      <th>1</th>\n      <td>8uD0WY155Q9</td>\n      <td>How does write popular Mr know develop?</td>\n      <td>[{'choice': 'Agree', 'number': 9}]</td>\n    </tr>\n    <tr>\n      <th>2</th>\n      <td>8bN0OP829A8</td>\n      <td>Why does democratic represent far my pressure series third?</td>\n      <td>[{'choice': 'Strongly Agree', 'number': 9}]</td>\n    </tr>\n    <tr>\n      <th>3</th>\n      <td>2Rt9mk140E8</td>\n      <td>How does understand network old?</td>\n      <td>[{'choice': 'Agree', 'number': 2}]</td>\n    </tr>\n    <tr>\n      <th>4</th>\n      <td>8tf2SU934m8</td>\n      <td>Why does western next put?</td>\n      <td>[{'choice': 'Neutral', 'number': 8}]</td>\n    </tr>\n    <tr>\n      <th>5</th>\n      <td>2CP2AW568v2</td>\n      <td>Why does whatever play office move alone class part wish?</td>\n      <td>[{'choice': 'Neutral', 'number': 0}]</td>\n    </tr>\n    <tr>\n      <th>6</th>\n      <td>2YV7SR528f0</td>\n      <td>Why does which phone return much door?</td>\n      <td>[{'choice': 'Disagree', 'number': 7}]</td>\n    </tr>\n    <tr>\n      <th>7</th>\n      <td>3PJ8eR903v4</td>\n      <td>Why does despite be class various great stay Republican person?</td>\n      <td>[{'choice': 'Neutral', 'number': 4}]</td>\n    </tr>\n    <tr>\n      <th>8</th>\n      <td>2GV2kH553o3</td>\n      <td>Does become create store store?</td>\n      <td>[{'choice': 'Disagree', 'number': 8}]</td>\n    </tr>\n    <tr>\n      <th>9</th>\n      <td>9aX3NJ910f8</td>\n      <td>Which team life although rate science I pattern?</td>\n      <td>[{'choice': 'Strongly Disagree', 'number': 7}]</td>\n    </tr>\n  </tbody>\n</table>"
     },
     "metadata": {}
    }
   ],
   "source": [
    "df = pd.json_normalize(\n",
    "    sample_data, \n",
    "    record_path=\"responses\", \n",
    ")\n",
    "print_df(df)"
   ]
  },
  {
   "source": [
    "But when we direct the parser to just unpack the `reponses` array, we lose our data from the level above. Pandas can be instructed to keep this by giving it a list of metadata to repeat for each record it unpacks from the level above. We use the `meta` parameter and pass it a list of the fields to include."
   ],
   "cell_type": "markdown",
   "metadata": {}
  },
  {
   "cell_type": "code",
   "execution_count": 72,
   "metadata": {},
   "outputs": [
    {
     "output_type": "display_data",
     "data": {
      "text/plain": "<IPython.core.display.HTML object>",
      "text/html": "<table border=\"1\" class=\"dataframe\">\n  <thead>\n    <tr style=\"text-align: right;\">\n      <th></th>\n      <th>question_id</th>\n      <th>question_text</th>\n      <th>choices</th>\n      <th>respondent_id</th>\n      <th>survey_date</th>\n      <th>email</th>\n    </tr>\n  </thead>\n  <tbody>\n    <tr>\n      <th>0</th>\n      <td>7YB4ZO864I7</td>\n      <td>How does speak beat ever tree?</td>\n      <td>[{'choice': 'Strongly Agree', 'number': 4}]</td>\n      <td>9U69hZ538l1</td>\n      <td>1994-03-20</td>\n      <td>lindsey24@example.com</td>\n    </tr>\n    <tr>\n      <th>1</th>\n      <td>8uD0WY155Q9</td>\n      <td>How does write popular Mr know develop?</td>\n      <td>[{'choice': 'Agree', 'number': 9}]</td>\n      <td>9U69hZ538l1</td>\n      <td>1994-03-20</td>\n      <td>lindsey24@example.com</td>\n    </tr>\n    <tr>\n      <th>2</th>\n      <td>8bN0OP829A8</td>\n      <td>Why does democratic represent far my pressure series third?</td>\n      <td>[{'choice': 'Strongly Agree', 'number': 9}]</td>\n      <td>9U69hZ538l1</td>\n      <td>1994-03-20</td>\n      <td>lindsey24@example.com</td>\n    </tr>\n    <tr>\n      <th>3</th>\n      <td>2Rt9mk140E8</td>\n      <td>How does understand network old?</td>\n      <td>[{'choice': 'Agree', 'number': 2}]</td>\n      <td>9U69hZ538l1</td>\n      <td>1994-03-20</td>\n      <td>lindsey24@example.com</td>\n    </tr>\n    <tr>\n      <th>4</th>\n      <td>8tf2SU934m8</td>\n      <td>Why does western next put?</td>\n      <td>[{'choice': 'Neutral', 'number': 8}]</td>\n      <td>9U69hZ538l1</td>\n      <td>1994-03-20</td>\n      <td>lindsey24@example.com</td>\n    </tr>\n    <tr>\n      <th>5</th>\n      <td>2CP2AW568v2</td>\n      <td>Why does whatever play office move alone class part wish?</td>\n      <td>[{'choice': 'Neutral', 'number': 0}]</td>\n      <td>3A45gW246W1</td>\n      <td>1991-07-13</td>\n      <td>robert21@example.com</td>\n    </tr>\n    <tr>\n      <th>6</th>\n      <td>2YV7SR528f0</td>\n      <td>Why does which phone return much door?</td>\n      <td>[{'choice': 'Disagree', 'number': 7}]</td>\n      <td>3A45gW246W1</td>\n      <td>1991-07-13</td>\n      <td>robert21@example.com</td>\n    </tr>\n    <tr>\n      <th>7</th>\n      <td>3PJ8eR903v4</td>\n      <td>Why does despite be class various great stay Republican person?</td>\n      <td>[{'choice': 'Neutral', 'number': 4}]</td>\n      <td>3A45gW246W1</td>\n      <td>1991-07-13</td>\n      <td>robert21@example.com</td>\n    </tr>\n    <tr>\n      <th>8</th>\n      <td>2GV2kH553o3</td>\n      <td>Does become create store store?</td>\n      <td>[{'choice': 'Disagree', 'number': 8}]</td>\n      <td>3A45gW246W1</td>\n      <td>1991-07-13</td>\n      <td>robert21@example.com</td>\n    </tr>\n    <tr>\n      <th>9</th>\n      <td>9aX3NJ910f8</td>\n      <td>Which team life although rate science I pattern?</td>\n      <td>[{'choice': 'Strongly Disagree', 'number': 7}]</td>\n      <td>3A45gW246W1</td>\n      <td>1991-07-13</td>\n      <td>robert21@example.com</td>\n    </tr>\n  </tbody>\n</table>"
     },
     "metadata": {}
    }
   ],
   "source": [
    "df = pd.json_normalize(\n",
    "    sample_data, \n",
    "    record_path=\"responses\", \n",
    "     meta=[\n",
    "        \"respondent_id\", \n",
    "        \"survey_date\",\n",
    "        \"email\", \n",
    "    ],\n",
    ")\n",
    "print_df(df)\n",
    "   "
   ]
  },
  {
   "source": [
    "## We must go deeper!\n",
    "\n",
    "That works for the most part, but we still have that annoying **choices** json array that would be nice to split out into columns. \n",
    "\n",
    "```python\n",
    "df5 = pd.json_normalize(\n",
    "    sample_data, \n",
    "    record_path=\"choices\", \n",
    "    meta=[\n",
    "        \"respondent_id\", \n",
    "        \"survey_date\",\n",
    "        \"email\", \n",
    "    ],\n",
    ")\n",
    "```\n",
    "\n",
    "Simply passing the choices field to the `record_path` param results in a `KeyError` though. This is because the **choices** field is actually nested in the **responses** field. So pandas need us to construct a path to reach it. We can get to it by passing each key as a record in the list to construct a path. Here that looks like `[\"responses\", \"choices\"]`."
   ],
   "cell_type": "markdown",
   "metadata": {}
  },
  {
   "cell_type": "code",
   "execution_count": 73,
   "metadata": {},
   "outputs": [
    {
     "output_type": "display_data",
     "data": {
      "text/plain": "<IPython.core.display.HTML object>",
      "text/html": "<table border=\"1\" class=\"dataframe\">\n  <thead>\n    <tr style=\"text-align: right;\">\n      <th></th>\n      <th>choice</th>\n      <th>number</th>\n      <th>respondent_id</th>\n      <th>survey_date</th>\n      <th>email</th>\n    </tr>\n  </thead>\n  <tbody>\n    <tr>\n      <th>0</th>\n      <td>Strongly Agree</td>\n      <td>4</td>\n      <td>9U69hZ538l1</td>\n      <td>1994-03-20</td>\n      <td>lindsey24@example.com</td>\n    </tr>\n    <tr>\n      <th>1</th>\n      <td>Agree</td>\n      <td>9</td>\n      <td>9U69hZ538l1</td>\n      <td>1994-03-20</td>\n      <td>lindsey24@example.com</td>\n    </tr>\n    <tr>\n      <th>2</th>\n      <td>Strongly Agree</td>\n      <td>9</td>\n      <td>9U69hZ538l1</td>\n      <td>1994-03-20</td>\n      <td>lindsey24@example.com</td>\n    </tr>\n    <tr>\n      <th>3</th>\n      <td>Agree</td>\n      <td>2</td>\n      <td>9U69hZ538l1</td>\n      <td>1994-03-20</td>\n      <td>lindsey24@example.com</td>\n    </tr>\n    <tr>\n      <th>4</th>\n      <td>Neutral</td>\n      <td>8</td>\n      <td>9U69hZ538l1</td>\n      <td>1994-03-20</td>\n      <td>lindsey24@example.com</td>\n    </tr>\n    <tr>\n      <th>5</th>\n      <td>Neutral</td>\n      <td>0</td>\n      <td>3A45gW246W1</td>\n      <td>1991-07-13</td>\n      <td>robert21@example.com</td>\n    </tr>\n    <tr>\n      <th>6</th>\n      <td>Disagree</td>\n      <td>7</td>\n      <td>3A45gW246W1</td>\n      <td>1991-07-13</td>\n      <td>robert21@example.com</td>\n    </tr>\n    <tr>\n      <th>7</th>\n      <td>Neutral</td>\n      <td>4</td>\n      <td>3A45gW246W1</td>\n      <td>1991-07-13</td>\n      <td>robert21@example.com</td>\n    </tr>\n    <tr>\n      <th>8</th>\n      <td>Disagree</td>\n      <td>8</td>\n      <td>3A45gW246W1</td>\n      <td>1991-07-13</td>\n      <td>robert21@example.com</td>\n    </tr>\n    <tr>\n      <th>9</th>\n      <td>Strongly Disagree</td>\n      <td>7</td>\n      <td>3A45gW246W1</td>\n      <td>1991-07-13</td>\n      <td>robert21@example.com</td>\n    </tr>\n  </tbody>\n</table>"
     },
     "metadata": {}
    }
   ],
   "source": [
    "df = pd.json_normalize(\n",
    "    sample_data, \n",
    "    record_path=[\"responses\", \"choices\"], \n",
    "    meta=[\n",
    "        \"respondent_id\", \n",
    "        \"survey_date\",\n",
    "        \"email\", \n",
    "    ],\n",
    ")\n",
    "print_df(df)"
   ]
  },
  {
   "source": [
    "But when we do that, we lose our **question_id** and **question_text** fields. That's because we need to add them in the meta list and pass their paths like the record path param. See below."
   ],
   "cell_type": "markdown",
   "metadata": {}
  },
  {
   "cell_type": "code",
   "execution_count": 74,
   "metadata": {},
   "outputs": [
    {
     "output_type": "display_data",
     "data": {
      "text/plain": "<IPython.core.display.HTML object>",
      "text/html": "<table border=\"1\" class=\"dataframe\">\n  <thead>\n    <tr style=\"text-align: right;\">\n      <th></th>\n      <th>choice</th>\n      <th>number</th>\n      <th>respondent_id</th>\n      <th>survey_date</th>\n      <th>email</th>\n      <th>responses.question_id</th>\n      <th>responses.question_text</th>\n    </tr>\n  </thead>\n  <tbody>\n    <tr>\n      <th>0</th>\n      <td>Strongly Agree</td>\n      <td>4</td>\n      <td>9U69hZ538l1</td>\n      <td>1994-03-20</td>\n      <td>lindsey24@example.com</td>\n      <td>7YB4ZO864I7</td>\n      <td>How does speak beat ever tree?</td>\n    </tr>\n    <tr>\n      <th>1</th>\n      <td>Agree</td>\n      <td>9</td>\n      <td>9U69hZ538l1</td>\n      <td>1994-03-20</td>\n      <td>lindsey24@example.com</td>\n      <td>8uD0WY155Q9</td>\n      <td>How does write popular Mr know develop?</td>\n    </tr>\n    <tr>\n      <th>2</th>\n      <td>Strongly Agree</td>\n      <td>9</td>\n      <td>9U69hZ538l1</td>\n      <td>1994-03-20</td>\n      <td>lindsey24@example.com</td>\n      <td>8bN0OP829A8</td>\n      <td>Why does democratic represent far my pressure series third?</td>\n    </tr>\n    <tr>\n      <th>3</th>\n      <td>Agree</td>\n      <td>2</td>\n      <td>9U69hZ538l1</td>\n      <td>1994-03-20</td>\n      <td>lindsey24@example.com</td>\n      <td>2Rt9mk140E8</td>\n      <td>How does understand network old?</td>\n    </tr>\n    <tr>\n      <th>4</th>\n      <td>Neutral</td>\n      <td>8</td>\n      <td>9U69hZ538l1</td>\n      <td>1994-03-20</td>\n      <td>lindsey24@example.com</td>\n      <td>8tf2SU934m8</td>\n      <td>Why does western next put?</td>\n    </tr>\n    <tr>\n      <th>5</th>\n      <td>Neutral</td>\n      <td>0</td>\n      <td>3A45gW246W1</td>\n      <td>1991-07-13</td>\n      <td>robert21@example.com</td>\n      <td>2CP2AW568v2</td>\n      <td>Why does whatever play office move alone class part wish?</td>\n    </tr>\n    <tr>\n      <th>6</th>\n      <td>Disagree</td>\n      <td>7</td>\n      <td>3A45gW246W1</td>\n      <td>1991-07-13</td>\n      <td>robert21@example.com</td>\n      <td>2YV7SR528f0</td>\n      <td>Why does which phone return much door?</td>\n    </tr>\n    <tr>\n      <th>7</th>\n      <td>Neutral</td>\n      <td>4</td>\n      <td>3A45gW246W1</td>\n      <td>1991-07-13</td>\n      <td>robert21@example.com</td>\n      <td>3PJ8eR903v4</td>\n      <td>Why does despite be class various great stay Republican person?</td>\n    </tr>\n    <tr>\n      <th>8</th>\n      <td>Disagree</td>\n      <td>8</td>\n      <td>3A45gW246W1</td>\n      <td>1991-07-13</td>\n      <td>robert21@example.com</td>\n      <td>2GV2kH553o3</td>\n      <td>Does become create store store?</td>\n    </tr>\n    <tr>\n      <th>9</th>\n      <td>Strongly Disagree</td>\n      <td>7</td>\n      <td>3A45gW246W1</td>\n      <td>1991-07-13</td>\n      <td>robert21@example.com</td>\n      <td>9aX3NJ910f8</td>\n      <td>Which team life although rate science I pattern?</td>\n    </tr>\n  </tbody>\n</table>"
     },
     "metadata": {}
    }
   ],
   "source": [
    "df = pd.json_normalize(\n",
    "    sample_data, \n",
    "    record_path=[\"responses\", \"choices\"], \n",
    "    meta=[\n",
    "        \"respondent_id\", \n",
    "        \"survey_date\",\n",
    "        \"email\", \n",
    "        [\"responses\", \"question_id\"],\n",
    "        [\"responses\", \"question_text\"],\n",
    "    ],\n",
    ")\n",
    "print_df(df)"
   ]
  },
  {
   "source": [
    "One last tweak: some databases (like MS SQL) don't like naming columns with that period in the name. As a work around you can give the `json_normalize` function a custom separator such as an underscore instead. "
   ],
   "cell_type": "markdown",
   "metadata": {}
  },
  {
   "cell_type": "code",
   "execution_count": 75,
   "metadata": {},
   "outputs": [
    {
     "output_type": "display_data",
     "data": {
      "text/plain": "<IPython.core.display.HTML object>",
      "text/html": "<table border=\"1\" class=\"dataframe\">\n  <thead>\n    <tr style=\"text-align: right;\">\n      <th></th>\n      <th>choice</th>\n      <th>number</th>\n      <th>respondent_id</th>\n      <th>survey_date</th>\n      <th>email</th>\n      <th>responses_question_id</th>\n      <th>responses_question_text</th>\n    </tr>\n  </thead>\n  <tbody>\n    <tr>\n      <th>0</th>\n      <td>Strongly Agree</td>\n      <td>4</td>\n      <td>9U69hZ538l1</td>\n      <td>1994-03-20</td>\n      <td>lindsey24@example.com</td>\n      <td>7YB4ZO864I7</td>\n      <td>How does speak beat ever tree?</td>\n    </tr>\n    <tr>\n      <th>1</th>\n      <td>Agree</td>\n      <td>9</td>\n      <td>9U69hZ538l1</td>\n      <td>1994-03-20</td>\n      <td>lindsey24@example.com</td>\n      <td>8uD0WY155Q9</td>\n      <td>How does write popular Mr know develop?</td>\n    </tr>\n    <tr>\n      <th>2</th>\n      <td>Strongly Agree</td>\n      <td>9</td>\n      <td>9U69hZ538l1</td>\n      <td>1994-03-20</td>\n      <td>lindsey24@example.com</td>\n      <td>8bN0OP829A8</td>\n      <td>Why does democratic represent far my pressure series third?</td>\n    </tr>\n    <tr>\n      <th>3</th>\n      <td>Agree</td>\n      <td>2</td>\n      <td>9U69hZ538l1</td>\n      <td>1994-03-20</td>\n      <td>lindsey24@example.com</td>\n      <td>2Rt9mk140E8</td>\n      <td>How does understand network old?</td>\n    </tr>\n    <tr>\n      <th>4</th>\n      <td>Neutral</td>\n      <td>8</td>\n      <td>9U69hZ538l1</td>\n      <td>1994-03-20</td>\n      <td>lindsey24@example.com</td>\n      <td>8tf2SU934m8</td>\n      <td>Why does western next put?</td>\n    </tr>\n    <tr>\n      <th>5</th>\n      <td>Neutral</td>\n      <td>0</td>\n      <td>3A45gW246W1</td>\n      <td>1991-07-13</td>\n      <td>robert21@example.com</td>\n      <td>2CP2AW568v2</td>\n      <td>Why does whatever play office move alone class part wish?</td>\n    </tr>\n    <tr>\n      <th>6</th>\n      <td>Disagree</td>\n      <td>7</td>\n      <td>3A45gW246W1</td>\n      <td>1991-07-13</td>\n      <td>robert21@example.com</td>\n      <td>2YV7SR528f0</td>\n      <td>Why does which phone return much door?</td>\n    </tr>\n    <tr>\n      <th>7</th>\n      <td>Neutral</td>\n      <td>4</td>\n      <td>3A45gW246W1</td>\n      <td>1991-07-13</td>\n      <td>robert21@example.com</td>\n      <td>3PJ8eR903v4</td>\n      <td>Why does despite be class various great stay Republican person?</td>\n    </tr>\n    <tr>\n      <th>8</th>\n      <td>Disagree</td>\n      <td>8</td>\n      <td>3A45gW246W1</td>\n      <td>1991-07-13</td>\n      <td>robert21@example.com</td>\n      <td>2GV2kH553o3</td>\n      <td>Does become create store store?</td>\n    </tr>\n    <tr>\n      <th>9</th>\n      <td>Strongly Disagree</td>\n      <td>7</td>\n      <td>3A45gW246W1</td>\n      <td>1991-07-13</td>\n      <td>robert21@example.com</td>\n      <td>9aX3NJ910f8</td>\n      <td>Which team life although rate science I pattern?</td>\n    </tr>\n  </tbody>\n</table>"
     },
     "metadata": {}
    }
   ],
   "source": [
    "df = pd.json_normalize(\n",
    "    sample_data, \n",
    "    sep=\"_\",\n",
    "    record_path=[\"responses\", \"choices\"], \n",
    "    meta=[\n",
    "        \"respondent_id\", \n",
    "        \"survey_date\",\n",
    "        \"email\", \n",
    "        [\"responses\", \"question_id\"],\n",
    "        [\"responses\", \"question_text\"]\n",
    "    ],\n",
    ")\n",
    "print_df(df)"
   ]
  },
  {
   "source": [
    "Finally, we'll order the columns from the least nested level on the left all the way to the most nested on the right for easier readability. "
   ],
   "cell_type": "markdown",
   "metadata": {}
  },
  {
   "cell_type": "code",
   "execution_count": 76,
   "metadata": {},
   "outputs": [
    {
     "output_type": "display_data",
     "data": {
      "text/plain": "<IPython.core.display.HTML object>",
      "text/html": "<table border=\"1\" class=\"dataframe\">\n  <thead>\n    <tr style=\"text-align: right;\">\n      <th></th>\n      <th>respondent_id</th>\n      <th>survey_date</th>\n      <th>email</th>\n      <th>responses_question_id</th>\n      <th>responses_question_text</th>\n      <th>choice</th>\n      <th>number</th>\n    </tr>\n  </thead>\n  <tbody>\n    <tr>\n      <th>0</th>\n      <td>9U69hZ538l1</td>\n      <td>1994-03-20</td>\n      <td>lindsey24@example.com</td>\n      <td>7YB4ZO864I7</td>\n      <td>How does speak beat ever tree?</td>\n      <td>Strongly Agree</td>\n      <td>4</td>\n    </tr>\n    <tr>\n      <th>1</th>\n      <td>9U69hZ538l1</td>\n      <td>1994-03-20</td>\n      <td>lindsey24@example.com</td>\n      <td>8uD0WY155Q9</td>\n      <td>How does write popular Mr know develop?</td>\n      <td>Agree</td>\n      <td>9</td>\n    </tr>\n    <tr>\n      <th>2</th>\n      <td>9U69hZ538l1</td>\n      <td>1994-03-20</td>\n      <td>lindsey24@example.com</td>\n      <td>8bN0OP829A8</td>\n      <td>Why does democratic represent far my pressure series third?</td>\n      <td>Strongly Agree</td>\n      <td>9</td>\n    </tr>\n    <tr>\n      <th>3</th>\n      <td>9U69hZ538l1</td>\n      <td>1994-03-20</td>\n      <td>lindsey24@example.com</td>\n      <td>2Rt9mk140E8</td>\n      <td>How does understand network old?</td>\n      <td>Agree</td>\n      <td>2</td>\n    </tr>\n    <tr>\n      <th>4</th>\n      <td>9U69hZ538l1</td>\n      <td>1994-03-20</td>\n      <td>lindsey24@example.com</td>\n      <td>8tf2SU934m8</td>\n      <td>Why does western next put?</td>\n      <td>Neutral</td>\n      <td>8</td>\n    </tr>\n    <tr>\n      <th>5</th>\n      <td>3A45gW246W1</td>\n      <td>1991-07-13</td>\n      <td>robert21@example.com</td>\n      <td>2CP2AW568v2</td>\n      <td>Why does whatever play office move alone class part wish?</td>\n      <td>Neutral</td>\n      <td>0</td>\n    </tr>\n    <tr>\n      <th>6</th>\n      <td>3A45gW246W1</td>\n      <td>1991-07-13</td>\n      <td>robert21@example.com</td>\n      <td>2YV7SR528f0</td>\n      <td>Why does which phone return much door?</td>\n      <td>Disagree</td>\n      <td>7</td>\n    </tr>\n    <tr>\n      <th>7</th>\n      <td>3A45gW246W1</td>\n      <td>1991-07-13</td>\n      <td>robert21@example.com</td>\n      <td>3PJ8eR903v4</td>\n      <td>Why does despite be class various great stay Republican person?</td>\n      <td>Neutral</td>\n      <td>4</td>\n    </tr>\n    <tr>\n      <th>8</th>\n      <td>3A45gW246W1</td>\n      <td>1991-07-13</td>\n      <td>robert21@example.com</td>\n      <td>2GV2kH553o3</td>\n      <td>Does become create store store?</td>\n      <td>Disagree</td>\n      <td>8</td>\n    </tr>\n    <tr>\n      <th>9</th>\n      <td>3A45gW246W1</td>\n      <td>1991-07-13</td>\n      <td>robert21@example.com</td>\n      <td>9aX3NJ910f8</td>\n      <td>Which team life although rate science I pattern?</td>\n      <td>Strongly Disagree</td>\n      <td>7</td>\n    </tr>\n  </tbody>\n</table>"
     },
     "metadata": {}
    }
   ],
   "source": [
    "column_order = [\"respondent_id\", \"survey_date\", \"email\", \"responses_question_id\", \"responses_question_text\", \"choice\", \"number\"]\n",
    "df = df[column_order]\n",
    "print_df(df)"
   ]
  },
  {
   "source": [
    "## Parsed and ready to import\n",
    "\n",
    "At this point our data is in a simple tabular format and ready to import into a database table with something like [pandas.to_sql()](https://pandas.pydata.org/pandas-docs/stable/reference/api/pandas.DataFrame.to_sql.html?highlight=to_sql) function, but we'll save that for another post. "
   ],
   "cell_type": "markdown",
   "metadata": {}
  }
 ]
}