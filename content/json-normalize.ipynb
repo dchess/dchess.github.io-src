{
 "metadata": {
  "language_info": {
   "codemirror_mode": {
    "name": "ipython",
    "version": 3
   },
   "file_extension": ".py",
   "mimetype": "text/x-python",
   "name": "python",
   "nbconvert_exporter": "python",
   "pygments_lexer": "ipython3",
   "version": "3.8.5-final"
  },
  "orig_nbformat": 2,
  "kernelspec": {
   "name": "python3",
   "display_name": "Python 3",
   "language": "python"
  }
 },
 "nbformat": 4,
 "nbformat_minor": 2,
 "cells": [
  {
   "source": [
    "- Title: Normalize JSON with Pandas\n",
    "- Date: 2021-01-12 21:00:00 -0700\n",
    "- Category: Tutorial\n",
    "- Summary: An explanation about using the pandas json_normalize function to handle nested JSON data."
   ],
   "cell_type": "markdown",
   "metadata": {}
  },
  {
   "source": [
    "When processing nested `JSON` data into a flat structure for importing into a relational database, it can be tricky to structure the data into the right shape. [Pandas](https://pandas.pydata.org/) has a great tool for doing this called `pandas.json_normalize()` but the [documentation]((https://pandas.pydata.org/docs/reference/api/pandas.json_normalize.html?highlight=json_normalize)) doesn't make it obvious how to leverage its capabilities for handling nested data structures. \n",
    "\n",
    "I thought I could provide a brief example using some randomly generated survey response data (using the [Faker](https://faker.readthedocs.io/en/master/) library) to illustrate it's advantages."
   ],
   "cell_type": "markdown",
   "metadata": {}
  },
  {
   "source": [
    "## Setup\n",
    "\n",
    "To start, I'm going to be using pandas and Faker so we'll import those. I'm also going to need to easily display the parsed json as well as the returned dataframes, so I'm importing the json module from the standard lib as well as some IPython notebook helpers for displaying dataframes as HTMl tables. "
   ],
   "cell_type": "markdown",
   "metadata": {}
  },
  {
   "cell_type": "code",
   "execution_count": 67,
   "metadata": {},
   "outputs": [],
   "source": [
    "import json\n",
    "from IPython.display import display, HTML\n",
    "from faker import Faker\n",
    "from faker.providers import BaseProvider, date_time, internet\n",
    "import pandas as pd"
   ]
  },
  {
   "source": [
    "To make it easier to call the IPython display helper, we'll include this simple function as **syntactic sugar**. "
   ],
   "cell_type": "markdown",
   "metadata": {}
  },
  {
   "cell_type": "code",
   "execution_count": 68,
   "metadata": {},
   "outputs": [],
   "source": [
    "def print_df(df):\n",
    "    display(HTML(df.to_html()))"
   ]
  },
  {
   "source": [
    "## Fake Data\n",
    "Faker doesn't have a built in provider for survey questions, so let's go ahead and add a simple one that creates non-sensical questions with a simple hack to the sentence provider."
   ],
   "cell_type": "markdown",
   "metadata": {}
  },
  {
   "cell_type": "code",
   "execution_count": 69,
   "metadata": {},
   "outputs": [],
   "source": [
    "class MyProvider(BaseProvider):\n",
    "    def question(self):\n",
    "        stems = ('Does', 'How does', 'Which', 'Why does')\n",
    "        stem = Faker().random_choices(elements=stems, length=1)[0]\n",
    "        sentence = Faker().sentence()\n",
    "        sentence = sentence[0].lower() + sentence[1:]\n",
    "        question = sentence.replace(\".\", \"?\")\n",
    "        question = f\"{stem} {question}\"\n",
    "        return question"
   ]
  },
  {
   "source": [
    "Using this new question provider, we'll construct a few records of fake survey response data with some respondent level data like a respondent_id, survey_date, and respondent email. Within that we'll nest a list of responses which will in turn have it's own dictionary of data at the question level: id, question text, and choices. The choices list will be singular here, but assume it has that structure because the API this comes from has to also account for multi-select options and we'll need to parse it as a list regardless. *Depending on our analysis needs, this might also be a place where we'd want to keep these in a comma separated string, but for our purposes here we'll ignore that use case.*"
   ],
   "cell_type": "markdown",
   "metadata": {}
  },
  {
   "cell_type": "code",
   "execution_count": 79,
   "metadata": {
    "tags": []
   },
   "outputs": [],
   "source": [
    "fake = Faker()\n",
    "fake.add_provider(MyProvider)\n",
    "choices = ('Strongly Agree', 'Agree', 'Neutral', 'Disagree', 'Strongly Disagree')\n",
    "\n",
    "\n",
    "sample_data = [\n",
    "    {\n",
    "        \"respondent_id\": fake.bothify(text=\"#?##??###?#\"),\n",
    "        \"survey_date\": fake.date(),\n",
    "        \"email\": f\"{fake.name()}@example.com\",\n",
    "        \"responses\": [\n",
    "            {\n",
    "                \"question_id\": fake.bothify(text=\"#??#??###?#\"),\n",
    "                \"question_text\": fake.question(),\n",
    "                \"choices\": [\n",
    "                    {\n",
    "                        \"choice\": fake.random_choices(elements=choices, length=1)[0],\n",
    "                        \"number\": fake.random_digit(),\n",
    "                    }\n",
    "                ]\n",
    "            } for _ in range(5)\n",
    "        ]\n",
    "    } for _ in range(2) \n",
    "]"
   ]
  },
  {
   "source": [
    "Let's print out a single record to see the resulting data structure that has been generated randomly."
   ],
   "cell_type": "markdown",
   "metadata": {}
  },
  {
   "cell_type": "code",
   "execution_count": 80,
   "metadata": {},
   "outputs": [
    {
     "output_type": "stream",
     "name": "stdout",
     "text": [
      "{\n  \"respondent_id\": \"6q96SI993a7\",\n  \"survey_date\": \"2013-08-12\",\n  \"email\": \"Tracy Foster@example.com\",\n  \"responses\": [\n    {\n      \"question_id\": \"7Hq2ZB052H0\",\n      \"question_text\": \"Why does several bad job hotel measure machine draw already?\",\n      \"choices\": [\n        {\n          \"choice\": \"Strongly Disagree\",\n          \"number\": 4\n        }\n      ]\n    },\n    {\n      \"question_id\": \"7sF5Rc966u2\",\n      \"question_text\": \"Why does prepare financial garden several power group?\",\n      \"choices\": [\n        {\n          \"choice\": \"Disagree\",\n          \"number\": 6\n        }\n      ]\n    },\n    {\n      \"question_id\": \"3eW3tB947k7\",\n      \"question_text\": \"How does scene high early still read?\",\n      \"choices\": [\n        {\n          \"choice\": \"Agree\",\n          \"number\": 6\n        }\n      ]\n    },\n    {\n      \"question_id\": \"3xZ1up030p7\",\n      \"question_text\": \"Does than not economy toward short than stand?\",\n      \"choices\": [\n        {\n          \"choice\": \"Neutral\",\n          \"number\": 1\n        }\n      ]\n    },\n    {\n      \"question_id\": \"4jt0Kn805O4\",\n      \"question_text\": \"Which once yourself program?\",\n      \"choices\": [\n        {\n          \"choice\": \"Neutral\",\n          \"number\": 9\n        }\n      ]\n    }\n  ]\n}\n"
     ]
    }
   ],
   "source": [
    "print(json.dumps(sample_data[0], indent=2))"
   ]
  },
  {
   "source": [
    "## Reading with Pandas\n",
    "\n",
    "As you can see below, simply reading this directly into a dataframe only parses the top level respondent data, but then keeps the responses data as a json array. Which isn't great for simple analysis. Could you load that as is in a jsonb field in PostgreSQL? Sure. If you like parsing json with SQL. Yuck!\n"
   ],
   "cell_type": "markdown",
   "metadata": {}
  },
  {
   "cell_type": "code",
   "execution_count": 81,
   "metadata": {},
   "outputs": [
    {
     "output_type": "display_data",
     "data": {
      "text/plain": "<IPython.core.display.HTML object>",
      "text/html": "<table border=\"1\" class=\"dataframe\">\n  <thead>\n    <tr style=\"text-align: right;\">\n      <th></th>\n      <th>respondent_id</th>\n      <th>survey_date</th>\n      <th>email</th>\n      <th>responses</th>\n    </tr>\n  </thead>\n  <tbody>\n    <tr>\n      <th>0</th>\n      <td>6q96SI993a7</td>\n      <td>2013-08-12</td>\n      <td>Tracy Foster@example.com</td>\n      <td>[{'question_id': '7Hq2ZB052H0', 'question_text': 'Why does several bad job hotel measure machine draw already?', 'choices': [{'choice': 'Strongly Disagree', 'number': 4}]}, {'question_id': '7sF5Rc966u2', 'question_text': 'Why does prepare financial garden several power group?', 'choices': [{'choice': 'Disagree', 'number': 6}]}, {'question_id': '3eW3tB947k7', 'question_text': 'How does scene high early still read?', 'choices': [{'choice': 'Agree', 'number': 6}]}, {'question_id': '3xZ1up030p7', 'question_text': 'Does than not economy toward short than stand?', 'choices': [{'choice': 'Neutral', 'number': 1}]}, {'question_id': '4jt0Kn805O4', 'question_text': 'Which once yourself program?', 'choices': [{'choice': 'Neutral', 'number': 9}]}]</td>\n    </tr>\n    <tr>\n      <th>1</th>\n      <td>3s64my293n2</td>\n      <td>2019-09-05</td>\n      <td>Mary Chen@example.com</td>\n      <td>[{'question_id': '8ZY2IL469Z3', 'question_text': 'Does care training manage idea green produce machine?', 'choices': [{'choice': 'Disagree', 'number': 6}]}, {'question_id': '3jX8ix783b5', 'question_text': 'Which idea very care entire support rich?', 'choices': [{'choice': 'Neutral', 'number': 2}]}, {'question_id': '5ip4Sm635P6', 'question_text': 'Why does by collection leader well?', 'choices': [{'choice': 'Disagree', 'number': 6}]}, {'question_id': '4Hb8hr280u5', 'question_text': 'Which hospital father education build star through hospital?', 'choices': [{'choice': 'Agree', 'number': 5}]}, {'question_id': '3jJ6oU916M5', 'question_text': 'How does fire break material skill?', 'choices': [{'choice': 'Agree', 'number': 8}]}]</td>\n    </tr>\n  </tbody>\n</table>"
     },
     "metadata": {}
    }
   ],
   "source": [
    "df = pd.DataFrame(sample_data)\n",
    "print_df(df)"
   ]
  },
  {
   "source": [
    "## JSON Normalize\n",
    "Thankfully there is the `json_normalize()` function, but it requires a little understanding to get it to satisfactorily parse flat. Simply passing it the sample data without any parameters results in a very familiar result that's get us no further than we started in the last attempt."
   ],
   "cell_type": "markdown",
   "metadata": {}
  },
  {
   "cell_type": "code",
   "execution_count": 82,
   "metadata": {},
   "outputs": [
    {
     "output_type": "display_data",
     "data": {
      "text/plain": "<IPython.core.display.HTML object>",
      "text/html": "<table border=\"1\" class=\"dataframe\">\n  <thead>\n    <tr style=\"text-align: right;\">\n      <th></th>\n      <th>respondent_id</th>\n      <th>survey_date</th>\n      <th>email</th>\n      <th>responses</th>\n    </tr>\n  </thead>\n  <tbody>\n    <tr>\n      <th>0</th>\n      <td>6q96SI993a7</td>\n      <td>2013-08-12</td>\n      <td>Tracy Foster@example.com</td>\n      <td>[{'question_id': '7Hq2ZB052H0', 'question_text': 'Why does several bad job hotel measure machine draw already?', 'choices': [{'choice': 'Strongly Disagree', 'number': 4}]}, {'question_id': '7sF5Rc966u2', 'question_text': 'Why does prepare financial garden several power group?', 'choices': [{'choice': 'Disagree', 'number': 6}]}, {'question_id': '3eW3tB947k7', 'question_text': 'How does scene high early still read?', 'choices': [{'choice': 'Agree', 'number': 6}]}, {'question_id': '3xZ1up030p7', 'question_text': 'Does than not economy toward short than stand?', 'choices': [{'choice': 'Neutral', 'number': 1}]}, {'question_id': '4jt0Kn805O4', 'question_text': 'Which once yourself program?', 'choices': [{'choice': 'Neutral', 'number': 9}]}]</td>\n    </tr>\n    <tr>\n      <th>1</th>\n      <td>3s64my293n2</td>\n      <td>2019-09-05</td>\n      <td>Mary Chen@example.com</td>\n      <td>[{'question_id': '8ZY2IL469Z3', 'question_text': 'Does care training manage idea green produce machine?', 'choices': [{'choice': 'Disagree', 'number': 6}]}, {'question_id': '3jX8ix783b5', 'question_text': 'Which idea very care entire support rich?', 'choices': [{'choice': 'Neutral', 'number': 2}]}, {'question_id': '5ip4Sm635P6', 'question_text': 'Why does by collection leader well?', 'choices': [{'choice': 'Disagree', 'number': 6}]}, {'question_id': '4Hb8hr280u5', 'question_text': 'Which hospital father education build star through hospital?', 'choices': [{'choice': 'Agree', 'number': 5}]}, {'question_id': '3jJ6oU916M5', 'question_text': 'How does fire break material skill?', 'choices': [{'choice': 'Agree', 'number': 8}]}]</td>\n    </tr>\n  </tbody>\n</table>"
     },
     "metadata": {}
    }
   ],
   "source": [
    "df3 = pd.json_normalize(sample_data)\n",
    "print_df(df3)"
   ]
  },
  {
   "source": [
    "A few optional parameters can be used here to parse the first nested array called `responses`. We can direct the pandas json parser to a specific key as the source of records. The `record_path` parameter takes either a string or list of strings to construct that path. The name of this parameter is a hint about how to think of this when passed as a list as we'll see later. \n",
    "\n",
    "We "
   ],
   "cell_type": "markdown",
   "metadata": {}
  },
  {
   "cell_type": "code",
   "execution_count": 85,
   "metadata": {},
   "outputs": [
    {
     "output_type": "display_data",
     "data": {
      "text/plain": "<IPython.core.display.HTML object>",
      "text/html": "<table border=\"1\" class=\"dataframe\">\n  <thead>\n    <tr style=\"text-align: right;\">\n      <th></th>\n      <th>question_id</th>\n      <th>question_text</th>\n      <th>choices</th>\n    </tr>\n  </thead>\n  <tbody>\n    <tr>\n      <th>0</th>\n      <td>7Hq2ZB052H0</td>\n      <td>Why does several bad job hotel measure machine draw already?</td>\n      <td>[{'choice': 'Strongly Disagree', 'number': 4}]</td>\n    </tr>\n    <tr>\n      <th>1</th>\n      <td>7sF5Rc966u2</td>\n      <td>Why does prepare financial garden several power group?</td>\n      <td>[{'choice': 'Disagree', 'number': 6}]</td>\n    </tr>\n    <tr>\n      <th>2</th>\n      <td>3eW3tB947k7</td>\n      <td>How does scene high early still read?</td>\n      <td>[{'choice': 'Agree', 'number': 6}]</td>\n    </tr>\n    <tr>\n      <th>3</th>\n      <td>3xZ1up030p7</td>\n      <td>Does than not economy toward short than stand?</td>\n      <td>[{'choice': 'Neutral', 'number': 1}]</td>\n    </tr>\n    <tr>\n      <th>4</th>\n      <td>4jt0Kn805O4</td>\n      <td>Which once yourself program?</td>\n      <td>[{'choice': 'Neutral', 'number': 9}]</td>\n    </tr>\n    <tr>\n      <th>5</th>\n      <td>8ZY2IL469Z3</td>\n      <td>Does care training manage idea green produce machine?</td>\n      <td>[{'choice': 'Disagree', 'number': 6}]</td>\n    </tr>\n    <tr>\n      <th>6</th>\n      <td>3jX8ix783b5</td>\n      <td>Which idea very care entire support rich?</td>\n      <td>[{'choice': 'Neutral', 'number': 2}]</td>\n    </tr>\n    <tr>\n      <th>7</th>\n      <td>5ip4Sm635P6</td>\n      <td>Why does by collection leader well?</td>\n      <td>[{'choice': 'Disagree', 'number': 6}]</td>\n    </tr>\n    <tr>\n      <th>8</th>\n      <td>4Hb8hr280u5</td>\n      <td>Which hospital father education build star through hospital?</td>\n      <td>[{'choice': 'Agree', 'number': 5}]</td>\n    </tr>\n    <tr>\n      <th>9</th>\n      <td>3jJ6oU916M5</td>\n      <td>How does fire break material skill?</td>\n      <td>[{'choice': 'Agree', 'number': 8}]</td>\n    </tr>\n  </tbody>\n</table>"
     },
     "metadata": {}
    }
   ],
   "source": [
    "df4 = pd.json_normalize(\n",
    "    sample_data, \n",
    "    record_path=\"responses\", \n",
    ")\n",
    "print_df(df4)"
   ]
  },
  {
   "source": [
    "But when we direct the parser to just unpack the `reponses` array, we lose our data from the level above. Pandas can be instructed to keep this by giving it a list of metadata to repeat for each record it unpacks from the level above. We use the `meta` parameter and pass it a list of the fields to include."
   ],
   "cell_type": "markdown",
   "metadata": {}
  },
  {
   "cell_type": "code",
   "execution_count": 87,
   "metadata": {},
   "outputs": [
    {
     "output_type": "display_data",
     "data": {
      "text/plain": "<IPython.core.display.HTML object>",
      "text/html": "<table border=\"1\" class=\"dataframe\">\n  <thead>\n    <tr style=\"text-align: right;\">\n      <th></th>\n      <th>question_id</th>\n      <th>question_text</th>\n      <th>choices</th>\n      <th>respondent_id</th>\n      <th>survey_date</th>\n      <th>email</th>\n    </tr>\n  </thead>\n  <tbody>\n    <tr>\n      <th>0</th>\n      <td>7Hq2ZB052H0</td>\n      <td>Why does several bad job hotel measure machine draw already?</td>\n      <td>[{'choice': 'Strongly Disagree', 'number': 4}]</td>\n      <td>6q96SI993a7</td>\n      <td>2013-08-12</td>\n      <td>Tracy Foster@example.com</td>\n    </tr>\n    <tr>\n      <th>1</th>\n      <td>7sF5Rc966u2</td>\n      <td>Why does prepare financial garden several power group?</td>\n      <td>[{'choice': 'Disagree', 'number': 6}]</td>\n      <td>6q96SI993a7</td>\n      <td>2013-08-12</td>\n      <td>Tracy Foster@example.com</td>\n    </tr>\n    <tr>\n      <th>2</th>\n      <td>3eW3tB947k7</td>\n      <td>How does scene high early still read?</td>\n      <td>[{'choice': 'Agree', 'number': 6}]</td>\n      <td>6q96SI993a7</td>\n      <td>2013-08-12</td>\n      <td>Tracy Foster@example.com</td>\n    </tr>\n    <tr>\n      <th>3</th>\n      <td>3xZ1up030p7</td>\n      <td>Does than not economy toward short than stand?</td>\n      <td>[{'choice': 'Neutral', 'number': 1}]</td>\n      <td>6q96SI993a7</td>\n      <td>2013-08-12</td>\n      <td>Tracy Foster@example.com</td>\n    </tr>\n    <tr>\n      <th>4</th>\n      <td>4jt0Kn805O4</td>\n      <td>Which once yourself program?</td>\n      <td>[{'choice': 'Neutral', 'number': 9}]</td>\n      <td>6q96SI993a7</td>\n      <td>2013-08-12</td>\n      <td>Tracy Foster@example.com</td>\n    </tr>\n    <tr>\n      <th>5</th>\n      <td>8ZY2IL469Z3</td>\n      <td>Does care training manage idea green produce machine?</td>\n      <td>[{'choice': 'Disagree', 'number': 6}]</td>\n      <td>3s64my293n2</td>\n      <td>2019-09-05</td>\n      <td>Mary Chen@example.com</td>\n    </tr>\n    <tr>\n      <th>6</th>\n      <td>3jX8ix783b5</td>\n      <td>Which idea very care entire support rich?</td>\n      <td>[{'choice': 'Neutral', 'number': 2}]</td>\n      <td>3s64my293n2</td>\n      <td>2019-09-05</td>\n      <td>Mary Chen@example.com</td>\n    </tr>\n    <tr>\n      <th>7</th>\n      <td>5ip4Sm635P6</td>\n      <td>Why does by collection leader well?</td>\n      <td>[{'choice': 'Disagree', 'number': 6}]</td>\n      <td>3s64my293n2</td>\n      <td>2019-09-05</td>\n      <td>Mary Chen@example.com</td>\n    </tr>\n    <tr>\n      <th>8</th>\n      <td>4Hb8hr280u5</td>\n      <td>Which hospital father education build star through hospital?</td>\n      <td>[{'choice': 'Agree', 'number': 5}]</td>\n      <td>3s64my293n2</td>\n      <td>2019-09-05</td>\n      <td>Mary Chen@example.com</td>\n    </tr>\n    <tr>\n      <th>9</th>\n      <td>3jJ6oU916M5</td>\n      <td>How does fire break material skill?</td>\n      <td>[{'choice': 'Agree', 'number': 8}]</td>\n      <td>3s64my293n2</td>\n      <td>2019-09-05</td>\n      <td>Mary Chen@example.com</td>\n    </tr>\n  </tbody>\n</table>"
     },
     "metadata": {}
    }
   ],
   "source": [
    "df4 = pd.json_normalize(\n",
    "    sample_data, \n",
    "    record_path=\"responses\", \n",
    "     meta=[\n",
    "        \"respondent_id\", \n",
    "        \"survey_date\",\n",
    "        \"email\", \n",
    "    ],\n",
    ")\n",
    "print_df(df4)\n",
    "   "
   ]
  },
  {
   "source": [
    "## We must go deeper!\n",
    "\n",
    "That works for the most part, but we still have that annoying **choices** json array that would be nice to split out into columns. \n",
    "\n",
    "```python\n",
    "df5 = pd.json_normalize(\n",
    "    sample_data, \n",
    "    record_path=\"choices\", \n",
    "    meta=[\n",
    "        \"respondent_id\", \n",
    "        \"survey_date\",\n",
    "        \"email\", \n",
    "    ],\n",
    ")\n",
    "```\n",
    "\n",
    "Simply passing the choices field to the `record_path` param results in a `KeyError` though. This is because the **choices** field is actually nested in the **responses** field. So pandas need us to construct a path to reach it. We can get to it by passing each key as a record in the list to construct a path. Here that looks like `[\"responses\", \"choices\"]`."
   ],
   "cell_type": "markdown",
   "metadata": {}
  },
  {
   "cell_type": "code",
   "execution_count": 91,
   "metadata": {},
   "outputs": [
    {
     "output_type": "display_data",
     "data": {
      "text/plain": "<IPython.core.display.HTML object>",
      "text/html": "<table border=\"1\" class=\"dataframe\">\n  <thead>\n    <tr style=\"text-align: right;\">\n      <th></th>\n      <th>choice</th>\n      <th>number</th>\n      <th>respondent_id</th>\n      <th>survey_date</th>\n      <th>email</th>\n    </tr>\n  </thead>\n  <tbody>\n    <tr>\n      <th>0</th>\n      <td>Strongly Disagree</td>\n      <td>4</td>\n      <td>6q96SI993a7</td>\n      <td>2013-08-12</td>\n      <td>Tracy Foster@example.com</td>\n    </tr>\n    <tr>\n      <th>1</th>\n      <td>Disagree</td>\n      <td>6</td>\n      <td>6q96SI993a7</td>\n      <td>2013-08-12</td>\n      <td>Tracy Foster@example.com</td>\n    </tr>\n    <tr>\n      <th>2</th>\n      <td>Agree</td>\n      <td>6</td>\n      <td>6q96SI993a7</td>\n      <td>2013-08-12</td>\n      <td>Tracy Foster@example.com</td>\n    </tr>\n    <tr>\n      <th>3</th>\n      <td>Neutral</td>\n      <td>1</td>\n      <td>6q96SI993a7</td>\n      <td>2013-08-12</td>\n      <td>Tracy Foster@example.com</td>\n    </tr>\n    <tr>\n      <th>4</th>\n      <td>Neutral</td>\n      <td>9</td>\n      <td>6q96SI993a7</td>\n      <td>2013-08-12</td>\n      <td>Tracy Foster@example.com</td>\n    </tr>\n    <tr>\n      <th>5</th>\n      <td>Disagree</td>\n      <td>6</td>\n      <td>3s64my293n2</td>\n      <td>2019-09-05</td>\n      <td>Mary Chen@example.com</td>\n    </tr>\n    <tr>\n      <th>6</th>\n      <td>Neutral</td>\n      <td>2</td>\n      <td>3s64my293n2</td>\n      <td>2019-09-05</td>\n      <td>Mary Chen@example.com</td>\n    </tr>\n    <tr>\n      <th>7</th>\n      <td>Disagree</td>\n      <td>6</td>\n      <td>3s64my293n2</td>\n      <td>2019-09-05</td>\n      <td>Mary Chen@example.com</td>\n    </tr>\n    <tr>\n      <th>8</th>\n      <td>Agree</td>\n      <td>5</td>\n      <td>3s64my293n2</td>\n      <td>2019-09-05</td>\n      <td>Mary Chen@example.com</td>\n    </tr>\n    <tr>\n      <th>9</th>\n      <td>Agree</td>\n      <td>8</td>\n      <td>3s64my293n2</td>\n      <td>2019-09-05</td>\n      <td>Mary Chen@example.com</td>\n    </tr>\n  </tbody>\n</table>"
     },
     "metadata": {}
    }
   ],
   "source": [
    "df5 = pd.json_normalize(\n",
    "    sample_data, \n",
    "    record_path=[\"responses\", \"choices\"], \n",
    "    meta=[\n",
    "        \"respondent_id\", \n",
    "        \"survey_date\",\n",
    "        \"email\", \n",
    "    ],\n",
    ")\n",
    "print_df(df5)"
   ]
  },
  {
   "source": [
    "But when we do that, we lose our **question_id** and **question_text** fields. That's because we need to add them in the meta list and pass their paths like the record path param. See below."
   ],
   "cell_type": "markdown",
   "metadata": {}
  },
  {
   "cell_type": "code",
   "execution_count": 92,
   "metadata": {},
   "outputs": [
    {
     "output_type": "display_data",
     "data": {
      "text/plain": "<IPython.core.display.HTML object>",
      "text/html": "<table border=\"1\" class=\"dataframe\">\n  <thead>\n    <tr style=\"text-align: right;\">\n      <th></th>\n      <th>choice</th>\n      <th>number</th>\n      <th>respondent_id</th>\n      <th>survey_date</th>\n      <th>email</th>\n      <th>responses.question_id</th>\n      <th>responses.question_text</th>\n    </tr>\n  </thead>\n  <tbody>\n    <tr>\n      <th>0</th>\n      <td>Strongly Disagree</td>\n      <td>4</td>\n      <td>6q96SI993a7</td>\n      <td>2013-08-12</td>\n      <td>Tracy Foster@example.com</td>\n      <td>7Hq2ZB052H0</td>\n      <td>Why does several bad job hotel measure machine draw already?</td>\n    </tr>\n    <tr>\n      <th>1</th>\n      <td>Disagree</td>\n      <td>6</td>\n      <td>6q96SI993a7</td>\n      <td>2013-08-12</td>\n      <td>Tracy Foster@example.com</td>\n      <td>7sF5Rc966u2</td>\n      <td>Why does prepare financial garden several power group?</td>\n    </tr>\n    <tr>\n      <th>2</th>\n      <td>Agree</td>\n      <td>6</td>\n      <td>6q96SI993a7</td>\n      <td>2013-08-12</td>\n      <td>Tracy Foster@example.com</td>\n      <td>3eW3tB947k7</td>\n      <td>How does scene high early still read?</td>\n    </tr>\n    <tr>\n      <th>3</th>\n      <td>Neutral</td>\n      <td>1</td>\n      <td>6q96SI993a7</td>\n      <td>2013-08-12</td>\n      <td>Tracy Foster@example.com</td>\n      <td>3xZ1up030p7</td>\n      <td>Does than not economy toward short than stand?</td>\n    </tr>\n    <tr>\n      <th>4</th>\n      <td>Neutral</td>\n      <td>9</td>\n      <td>6q96SI993a7</td>\n      <td>2013-08-12</td>\n      <td>Tracy Foster@example.com</td>\n      <td>4jt0Kn805O4</td>\n      <td>Which once yourself program?</td>\n    </tr>\n    <tr>\n      <th>5</th>\n      <td>Disagree</td>\n      <td>6</td>\n      <td>3s64my293n2</td>\n      <td>2019-09-05</td>\n      <td>Mary Chen@example.com</td>\n      <td>8ZY2IL469Z3</td>\n      <td>Does care training manage idea green produce machine?</td>\n    </tr>\n    <tr>\n      <th>6</th>\n      <td>Neutral</td>\n      <td>2</td>\n      <td>3s64my293n2</td>\n      <td>2019-09-05</td>\n      <td>Mary Chen@example.com</td>\n      <td>3jX8ix783b5</td>\n      <td>Which idea very care entire support rich?</td>\n    </tr>\n    <tr>\n      <th>7</th>\n      <td>Disagree</td>\n      <td>6</td>\n      <td>3s64my293n2</td>\n      <td>2019-09-05</td>\n      <td>Mary Chen@example.com</td>\n      <td>5ip4Sm635P6</td>\n      <td>Why does by collection leader well?</td>\n    </tr>\n    <tr>\n      <th>8</th>\n      <td>Agree</td>\n      <td>5</td>\n      <td>3s64my293n2</td>\n      <td>2019-09-05</td>\n      <td>Mary Chen@example.com</td>\n      <td>4Hb8hr280u5</td>\n      <td>Which hospital father education build star through hospital?</td>\n    </tr>\n    <tr>\n      <th>9</th>\n      <td>Agree</td>\n      <td>8</td>\n      <td>3s64my293n2</td>\n      <td>2019-09-05</td>\n      <td>Mary Chen@example.com</td>\n      <td>3jJ6oU916M5</td>\n      <td>How does fire break material skill?</td>\n    </tr>\n  </tbody>\n</table>"
     },
     "metadata": {}
    }
   ],
   "source": [
    "df5 = pd.json_normalize(\n",
    "    sample_data, \n",
    "    record_path=[\"responses\", \"choices\"], \n",
    "    meta=[\n",
    "        \"respondent_id\", \n",
    "        \"survey_date\",\n",
    "        \"email\", \n",
    "        [\"responses\", \"question_id\"],\n",
    "        [\"responses\", \"question_text\"],\n",
    "    ],\n",
    ")\n",
    "print_df(df5)"
   ]
  },
  {
   "source": [
    "One last tweak: some databases (like MS SQL) don't like naming columns with that period in the name. As a work around you can give the `json_normalize` function a custom separator such as an underscore instead. "
   ],
   "cell_type": "markdown",
   "metadata": {}
  },
  {
   "cell_type": "code",
   "execution_count": 95,
   "metadata": {},
   "outputs": [
    {
     "output_type": "display_data",
     "data": {
      "text/plain": "<IPython.core.display.HTML object>",
      "text/html": "<table border=\"1\" class=\"dataframe\">\n  <thead>\n    <tr style=\"text-align: right;\">\n      <th></th>\n      <th>choice</th>\n      <th>number</th>\n      <th>respondent_id</th>\n      <th>survey_date</th>\n      <th>email</th>\n      <th>responses_question_id</th>\n      <th>responses_question_text</th>\n    </tr>\n  </thead>\n  <tbody>\n    <tr>\n      <th>0</th>\n      <td>Strongly Disagree</td>\n      <td>4</td>\n      <td>6q96SI993a7</td>\n      <td>2013-08-12</td>\n      <td>Tracy Foster@example.com</td>\n      <td>7Hq2ZB052H0</td>\n      <td>Why does several bad job hotel measure machine draw already?</td>\n    </tr>\n    <tr>\n      <th>1</th>\n      <td>Disagree</td>\n      <td>6</td>\n      <td>6q96SI993a7</td>\n      <td>2013-08-12</td>\n      <td>Tracy Foster@example.com</td>\n      <td>7sF5Rc966u2</td>\n      <td>Why does prepare financial garden several power group?</td>\n    </tr>\n    <tr>\n      <th>2</th>\n      <td>Agree</td>\n      <td>6</td>\n      <td>6q96SI993a7</td>\n      <td>2013-08-12</td>\n      <td>Tracy Foster@example.com</td>\n      <td>3eW3tB947k7</td>\n      <td>How does scene high early still read?</td>\n    </tr>\n    <tr>\n      <th>3</th>\n      <td>Neutral</td>\n      <td>1</td>\n      <td>6q96SI993a7</td>\n      <td>2013-08-12</td>\n      <td>Tracy Foster@example.com</td>\n      <td>3xZ1up030p7</td>\n      <td>Does than not economy toward short than stand?</td>\n    </tr>\n    <tr>\n      <th>4</th>\n      <td>Neutral</td>\n      <td>9</td>\n      <td>6q96SI993a7</td>\n      <td>2013-08-12</td>\n      <td>Tracy Foster@example.com</td>\n      <td>4jt0Kn805O4</td>\n      <td>Which once yourself program?</td>\n    </tr>\n    <tr>\n      <th>5</th>\n      <td>Disagree</td>\n      <td>6</td>\n      <td>3s64my293n2</td>\n      <td>2019-09-05</td>\n      <td>Mary Chen@example.com</td>\n      <td>8ZY2IL469Z3</td>\n      <td>Does care training manage idea green produce machine?</td>\n    </tr>\n    <tr>\n      <th>6</th>\n      <td>Neutral</td>\n      <td>2</td>\n      <td>3s64my293n2</td>\n      <td>2019-09-05</td>\n      <td>Mary Chen@example.com</td>\n      <td>3jX8ix783b5</td>\n      <td>Which idea very care entire support rich?</td>\n    </tr>\n    <tr>\n      <th>7</th>\n      <td>Disagree</td>\n      <td>6</td>\n      <td>3s64my293n2</td>\n      <td>2019-09-05</td>\n      <td>Mary Chen@example.com</td>\n      <td>5ip4Sm635P6</td>\n      <td>Why does by collection leader well?</td>\n    </tr>\n    <tr>\n      <th>8</th>\n      <td>Agree</td>\n      <td>5</td>\n      <td>3s64my293n2</td>\n      <td>2019-09-05</td>\n      <td>Mary Chen@example.com</td>\n      <td>4Hb8hr280u5</td>\n      <td>Which hospital father education build star through hospital?</td>\n    </tr>\n    <tr>\n      <th>9</th>\n      <td>Agree</td>\n      <td>8</td>\n      <td>3s64my293n2</td>\n      <td>2019-09-05</td>\n      <td>Mary Chen@example.com</td>\n      <td>3jJ6oU916M5</td>\n      <td>How does fire break material skill?</td>\n    </tr>\n  </tbody>\n</table>"
     },
     "metadata": {}
    }
   ],
   "source": [
    "df5 = pd.json_normalize(\n",
    "    sample_data, \n",
    "    sep=\"_\",\n",
    "    record_path=[\"responses\", \"choices\"], \n",
    "    meta=[\n",
    "        \"respondent_id\", \n",
    "        \"survey_date\",\n",
    "        \"email\", \n",
    "        [\"responses\", \"question_id\"],\n",
    "        [\"responses\", \"question_text\"]\n",
    "    ],\n",
    ")\n",
    "print_df(df5)"
   ]
  },
  {
   "source": [
    "Lastly, we'll record the columns to start from the least nested level on the left all the way to the most nested on the right for easier interpretation. "
   ],
   "cell_type": "markdown",
   "metadata": {}
  },
  {
   "cell_type": "code",
   "execution_count": 76,
   "metadata": {},
   "outputs": [
    {
     "output_type": "display_data",
     "data": {
      "text/plain": "<IPython.core.display.HTML object>",
      "text/html": "<table border=\"1\" class=\"dataframe\">\n  <thead>\n    <tr style=\"text-align: right;\">\n      <th></th>\n      <th>respondent_id</th>\n      <th>survey_date</th>\n      <th>email</th>\n      <th>responses_question_id</th>\n      <th>responses_question_text</th>\n      <th>choice</th>\n      <th>number</th>\n    </tr>\n  </thead>\n  <tbody>\n    <tr>\n      <th>0</th>\n      <td>8l80gS238W2</td>\n      <td>1982-10-31</td>\n      <td>Dan Thomas@example.com</td>\n      <td>9ZR5ZR439f4</td>\n      <td>How does in something of different?</td>\n      <td>Disagree</td>\n      <td>0</td>\n    </tr>\n    <tr>\n      <th>1</th>\n      <td>8l80gS238W2</td>\n      <td>1982-10-31</td>\n      <td>Dan Thomas@example.com</td>\n      <td>9DK0Am643P0</td>\n      <td>How does impact same move value water?</td>\n      <td>Strongly Disagree</td>\n      <td>8</td>\n    </tr>\n    <tr>\n      <th>2</th>\n      <td>8l80gS238W2</td>\n      <td>1982-10-31</td>\n      <td>Dan Thomas@example.com</td>\n      <td>0NE2jJ853s2</td>\n      <td>Why does including exactly thus player?</td>\n      <td>Strongly Agree</td>\n      <td>7</td>\n    </tr>\n    <tr>\n      <th>3</th>\n      <td>8l80gS238W2</td>\n      <td>1982-10-31</td>\n      <td>Dan Thomas@example.com</td>\n      <td>1mK5tX361J2</td>\n      <td>Why does training deep day group let president?</td>\n      <td>Agree</td>\n      <td>1</td>\n    </tr>\n    <tr>\n      <th>4</th>\n      <td>8l80gS238W2</td>\n      <td>1982-10-31</td>\n      <td>Dan Thomas@example.com</td>\n      <td>3PM4xL997q4</td>\n      <td>Does her ok lot hour?</td>\n      <td>Agree</td>\n      <td>1</td>\n    </tr>\n    <tr>\n      <th>5</th>\n      <td>8o18qO450A6</td>\n      <td>2015-07-19</td>\n      <td>Katrina Gross@example.com</td>\n      <td>9Of3Hc997V6</td>\n      <td>Why does student mouth any they hair positive?</td>\n      <td>Neutral</td>\n      <td>6</td>\n    </tr>\n    <tr>\n      <th>6</th>\n      <td>8o18qO450A6</td>\n      <td>2015-07-19</td>\n      <td>Katrina Gross@example.com</td>\n      <td>7Ql0Qg952F3</td>\n      <td>Does finally majority miss?</td>\n      <td>Disagree</td>\n      <td>9</td>\n    </tr>\n    <tr>\n      <th>7</th>\n      <td>8o18qO450A6</td>\n      <td>2015-07-19</td>\n      <td>Katrina Gross@example.com</td>\n      <td>5GL0iD950d2</td>\n      <td>Does machine whatever floor mission budget court production?</td>\n      <td>Strongly Disagree</td>\n      <td>5</td>\n    </tr>\n    <tr>\n      <th>8</th>\n      <td>8o18qO450A6</td>\n      <td>2015-07-19</td>\n      <td>Katrina Gross@example.com</td>\n      <td>5Ie6OO091n8</td>\n      <td>Why does nearly nothing owner per?</td>\n      <td>Disagree</td>\n      <td>3</td>\n    </tr>\n    <tr>\n      <th>9</th>\n      <td>8o18qO450A6</td>\n      <td>2015-07-19</td>\n      <td>Katrina Gross@example.com</td>\n      <td>9Ca8PI956p7</td>\n      <td>Does ready whatever quite plant forward yes summer?</td>\n      <td>Neutral</td>\n      <td>8</td>\n    </tr>\n  </tbody>\n</table>"
     },
     "metadata": {}
    }
   ],
   "source": [
    "column_order = [\"respondent_id\", \"survey_date\", \"email\", \"responses_question_id\", \"responses_question_text\", \"choice\", \"number\"]\n",
    "df6 = df5[column_order]\n",
    "print_df(df6)"
   ]
  },
  {
   "source": [
    "## Parsed and read to import\n",
    "\n",
    "At this point our data is in a tabular format and ready to import into a database table with something like pandas [to_sql()](https://pandas.pydata.org/pandas-docs/stable/reference/api/pandas.DataFrame.to_sql.html?highlight=to_sql) function, but we'll save that for another post. "
   ],
   "cell_type": "markdown",
   "metadata": {}
  }
 ]
}